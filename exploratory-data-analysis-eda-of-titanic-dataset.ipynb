{
 "cells": [
  {
   "cell_type": "markdown",
   "id": "170c5da6",
   "metadata": {
    "papermill": {
     "duration": 0.018196,
     "end_time": "2024-03-05T13:50:58.639113",
     "exception": false,
     "start_time": "2024-03-05T13:50:58.620917",
     "status": "completed"
    },
    "tags": []
   },
   "source": [
    "# EDA with Python and applying Logistic Regression \n",
    "Here, I will be working with the Titanic Data Set from Kaggle. This is a very famous data set!\n",
    "\n",
    "I've tried to predict a classification-survival or deceased. Let's begin the understanding of implementing Logistic Regression in Python for classification."
   ]
  },
  {
   "cell_type": "markdown",
   "id": "8c4ab469",
   "metadata": {
    "papermill": {
     "duration": 0.018465,
     "end_time": "2024-03-05T13:50:58.675313",
     "exception": false,
     "start_time": "2024-03-05T13:50:58.656848",
     "status": "completed"
    },
    "tags": []
   },
   "source": [
    "## Import Libraries\n",
    "Let's import some libraries to get started..."
   ]
  },
  {
   "cell_type": "code",
   "execution_count": 1,
   "id": "ed0c0a31",
   "metadata": {
    "execution": {
     "iopub.execute_input": "2024-03-05T13:50:58.714445Z",
     "iopub.status.busy": "2024-03-05T13:50:58.713923Z",
     "iopub.status.idle": "2024-03-05T13:51:01.211486Z",
     "shell.execute_reply": "2024-03-05T13:51:01.210367Z"
    },
    "papermill": {
     "duration": 2.519686,
     "end_time": "2024-03-05T13:51:01.214085",
     "exception": false,
     "start_time": "2024-03-05T13:50:58.694399",
     "status": "completed"
    },
    "tags": []
   },
   "outputs": [],
   "source": [
    "import pandas as pd\n",
    "import numpy as npm\n",
    "import seaborn as sns\n",
    "import matplotlib.pyplot as plt"
   ]
  },
  {
   "cell_type": "markdown",
   "id": "70acb195",
   "metadata": {
    "papermill": {
     "duration": 0.017301,
     "end_time": "2024-03-05T13:51:01.249817",
     "exception": false,
     "start_time": "2024-03-05T13:51:01.232516",
     "status": "completed"
    },
    "tags": []
   },
   "source": [
    "## Reading Titanic Dataset with Pandas\n",
    "\n",
    "To read the Titanic dataset using Pandas in Python, we can use the `read_csv()` function. Here's how to do it :\n"
   ]
  },
  {
   "cell_type": "code",
   "execution_count": 2,
   "id": "f5a3d6ab",
   "metadata": {
    "execution": {
     "iopub.execute_input": "2024-03-05T13:51:01.286602Z",
     "iopub.status.busy": "2024-03-05T13:51:01.285439Z",
     "iopub.status.idle": "2024-03-05T13:51:01.317884Z",
     "shell.execute_reply": "2024-03-05T13:51:01.316712Z"
    },
    "papermill": {
     "duration": 0.053377,
     "end_time": "2024-03-05T13:51:01.320435",
     "exception": false,
     "start_time": "2024-03-05T13:51:01.267058",
     "status": "completed"
    },
    "tags": []
   },
   "outputs": [],
   "source": [
    "df = pd.read_csv(\"/kaggle/input/titanic-dataset/Titanic-Dataset.csv\")"
   ]
  },
  {
   "cell_type": "code",
   "execution_count": 3,
   "id": "a2e0382f",
   "metadata": {
    "execution": {
     "iopub.execute_input": "2024-03-05T13:51:01.356469Z",
     "iopub.status.busy": "2024-03-05T13:51:01.355729Z",
     "iopub.status.idle": "2024-03-05T13:51:01.380820Z",
     "shell.execute_reply": "2024-03-05T13:51:01.379644Z"
    },
    "papermill": {
     "duration": 0.045959,
     "end_time": "2024-03-05T13:51:01.383549",
     "exception": false,
     "start_time": "2024-03-05T13:51:01.337590",
     "status": "completed"
    },
    "tags": []
   },
   "outputs": [
    {
     "data": {
      "text/html": [
       "<div>\n",
       "<style scoped>\n",
       "    .dataframe tbody tr th:only-of-type {\n",
       "        vertical-align: middle;\n",
       "    }\n",
       "\n",
       "    .dataframe tbody tr th {\n",
       "        vertical-align: top;\n",
       "    }\n",
       "\n",
       "    .dataframe thead th {\n",
       "        text-align: right;\n",
       "    }\n",
       "</style>\n",
       "<table border=\"1\" class=\"dataframe\">\n",
       "  <thead>\n",
       "    <tr style=\"text-align: right;\">\n",
       "      <th></th>\n",
       "      <th>PassengerId</th>\n",
       "      <th>Survived</th>\n",
       "      <th>Pclass</th>\n",
       "      <th>Name</th>\n",
       "      <th>Sex</th>\n",
       "      <th>Age</th>\n",
       "      <th>SibSp</th>\n",
       "      <th>Parch</th>\n",
       "      <th>Ticket</th>\n",
       "      <th>Fare</th>\n",
       "      <th>Cabin</th>\n",
       "      <th>Embarked</th>\n",
       "    </tr>\n",
       "  </thead>\n",
       "  <tbody>\n",
       "    <tr>\n",
       "      <th>0</th>\n",
       "      <td>1</td>\n",
       "      <td>0</td>\n",
       "      <td>3</td>\n",
       "      <td>Braund, Mr. Owen Harris</td>\n",
       "      <td>male</td>\n",
       "      <td>22.0</td>\n",
       "      <td>1</td>\n",
       "      <td>0</td>\n",
       "      <td>A/5 21171</td>\n",
       "      <td>7.2500</td>\n",
       "      <td>NaN</td>\n",
       "      <td>S</td>\n",
       "    </tr>\n",
       "    <tr>\n",
       "      <th>1</th>\n",
       "      <td>2</td>\n",
       "      <td>1</td>\n",
       "      <td>1</td>\n",
       "      <td>Cumings, Mrs. John Bradley (Florence Briggs Th...</td>\n",
       "      <td>female</td>\n",
       "      <td>38.0</td>\n",
       "      <td>1</td>\n",
       "      <td>0</td>\n",
       "      <td>PC 17599</td>\n",
       "      <td>71.2833</td>\n",
       "      <td>C85</td>\n",
       "      <td>C</td>\n",
       "    </tr>\n",
       "    <tr>\n",
       "      <th>2</th>\n",
       "      <td>3</td>\n",
       "      <td>1</td>\n",
       "      <td>3</td>\n",
       "      <td>Heikkinen, Miss. Laina</td>\n",
       "      <td>female</td>\n",
       "      <td>26.0</td>\n",
       "      <td>0</td>\n",
       "      <td>0</td>\n",
       "      <td>STON/O2. 3101282</td>\n",
       "      <td>7.9250</td>\n",
       "      <td>NaN</td>\n",
       "      <td>S</td>\n",
       "    </tr>\n",
       "    <tr>\n",
       "      <th>3</th>\n",
       "      <td>4</td>\n",
       "      <td>1</td>\n",
       "      <td>1</td>\n",
       "      <td>Futrelle, Mrs. Jacques Heath (Lily May Peel)</td>\n",
       "      <td>female</td>\n",
       "      <td>35.0</td>\n",
       "      <td>1</td>\n",
       "      <td>0</td>\n",
       "      <td>113803</td>\n",
       "      <td>53.1000</td>\n",
       "      <td>C123</td>\n",
       "      <td>S</td>\n",
       "    </tr>\n",
       "    <tr>\n",
       "      <th>4</th>\n",
       "      <td>5</td>\n",
       "      <td>0</td>\n",
       "      <td>3</td>\n",
       "      <td>Allen, Mr. William Henry</td>\n",
       "      <td>male</td>\n",
       "      <td>35.0</td>\n",
       "      <td>0</td>\n",
       "      <td>0</td>\n",
       "      <td>373450</td>\n",
       "      <td>8.0500</td>\n",
       "      <td>NaN</td>\n",
       "      <td>S</td>\n",
       "    </tr>\n",
       "  </tbody>\n",
       "</table>\n",
       "</div>"
      ],
      "text/plain": [
       "   PassengerId  Survived  Pclass  \\\n",
       "0            1         0       3   \n",
       "1            2         1       1   \n",
       "2            3         1       3   \n",
       "3            4         1       1   \n",
       "4            5         0       3   \n",
       "\n",
       "                                                Name     Sex   Age  SibSp  \\\n",
       "0                            Braund, Mr. Owen Harris    male  22.0      1   \n",
       "1  Cumings, Mrs. John Bradley (Florence Briggs Th...  female  38.0      1   \n",
       "2                             Heikkinen, Miss. Laina  female  26.0      0   \n",
       "3       Futrelle, Mrs. Jacques Heath (Lily May Peel)  female  35.0      1   \n",
       "4                           Allen, Mr. William Henry    male  35.0      0   \n",
       "\n",
       "   Parch            Ticket     Fare Cabin Embarked  \n",
       "0      0         A/5 21171   7.2500   NaN        S  \n",
       "1      0          PC 17599  71.2833   C85        C  \n",
       "2      0  STON/O2. 3101282   7.9250   NaN        S  \n",
       "3      0            113803  53.1000  C123        S  \n",
       "4      0            373450   8.0500   NaN        S  "
      ]
     },
     "execution_count": 3,
     "metadata": {},
     "output_type": "execute_result"
    }
   ],
   "source": [
    "df.head()"
   ]
  },
  {
   "cell_type": "code",
   "execution_count": 4,
   "id": "0fd20df3",
   "metadata": {
    "execution": {
     "iopub.execute_input": "2024-03-05T13:51:01.420274Z",
     "iopub.status.busy": "2024-03-05T13:51:01.419831Z",
     "iopub.status.idle": "2024-03-05T13:51:01.426837Z",
     "shell.execute_reply": "2024-03-05T13:51:01.425633Z"
    },
    "papermill": {
     "duration": 0.028202,
     "end_time": "2024-03-05T13:51:01.429185",
     "exception": false,
     "start_time": "2024-03-05T13:51:01.400983",
     "status": "completed"
    },
    "tags": []
   },
   "outputs": [
    {
     "data": {
      "text/plain": [
       "(891, 12)"
      ]
     },
     "execution_count": 4,
     "metadata": {},
     "output_type": "execute_result"
    }
   ],
   "source": [
    "df.shape"
   ]
  },
  {
   "cell_type": "markdown",
   "id": "d6f1c01c",
   "metadata": {
    "papermill": {
     "duration": 0.017173,
     "end_time": "2024-03-05T13:51:01.464005",
     "exception": false,
     "start_time": "2024-03-05T13:51:01.446832",
     "status": "completed"
    },
    "tags": []
   },
   "source": [
    "# Exploratory Data Analysis \n",
    "Now we are going to do some exploratory data analysis! \n",
    "\n",
    "# Missing Data\n",
    "We can use seaborn to cretae a simple heatmap to see where are missing data!"
   ]
  },
  {
   "cell_type": "code",
   "execution_count": 5,
   "id": "1cffd4ae",
   "metadata": {
    "execution": {
     "iopub.execute_input": "2024-03-05T13:51:01.500389Z",
     "iopub.status.busy": "2024-03-05T13:51:01.499932Z",
     "iopub.status.idle": "2024-03-05T13:51:01.525816Z",
     "shell.execute_reply": "2024-03-05T13:51:01.524697Z"
    },
    "papermill": {
     "duration": 0.047009,
     "end_time": "2024-03-05T13:51:01.528350",
     "exception": false,
     "start_time": "2024-03-05T13:51:01.481341",
     "status": "completed"
    },
    "tags": []
   },
   "outputs": [
    {
     "data": {
      "text/html": [
       "<div>\n",
       "<style scoped>\n",
       "    .dataframe tbody tr th:only-of-type {\n",
       "        vertical-align: middle;\n",
       "    }\n",
       "\n",
       "    .dataframe tbody tr th {\n",
       "        vertical-align: top;\n",
       "    }\n",
       "\n",
       "    .dataframe thead th {\n",
       "        text-align: right;\n",
       "    }\n",
       "</style>\n",
       "<table border=\"1\" class=\"dataframe\">\n",
       "  <thead>\n",
       "    <tr style=\"text-align: right;\">\n",
       "      <th></th>\n",
       "      <th>PassengerId</th>\n",
       "      <th>Survived</th>\n",
       "      <th>Pclass</th>\n",
       "      <th>Name</th>\n",
       "      <th>Sex</th>\n",
       "      <th>Age</th>\n",
       "      <th>SibSp</th>\n",
       "      <th>Parch</th>\n",
       "      <th>Ticket</th>\n",
       "      <th>Fare</th>\n",
       "      <th>Cabin</th>\n",
       "      <th>Embarked</th>\n",
       "    </tr>\n",
       "  </thead>\n",
       "  <tbody>\n",
       "    <tr>\n",
       "      <th>0</th>\n",
       "      <td>False</td>\n",
       "      <td>False</td>\n",
       "      <td>False</td>\n",
       "      <td>False</td>\n",
       "      <td>False</td>\n",
       "      <td>False</td>\n",
       "      <td>False</td>\n",
       "      <td>False</td>\n",
       "      <td>False</td>\n",
       "      <td>False</td>\n",
       "      <td>True</td>\n",
       "      <td>False</td>\n",
       "    </tr>\n",
       "    <tr>\n",
       "      <th>1</th>\n",
       "      <td>False</td>\n",
       "      <td>False</td>\n",
       "      <td>False</td>\n",
       "      <td>False</td>\n",
       "      <td>False</td>\n",
       "      <td>False</td>\n",
       "      <td>False</td>\n",
       "      <td>False</td>\n",
       "      <td>False</td>\n",
       "      <td>False</td>\n",
       "      <td>False</td>\n",
       "      <td>False</td>\n",
       "    </tr>\n",
       "    <tr>\n",
       "      <th>2</th>\n",
       "      <td>False</td>\n",
       "      <td>False</td>\n",
       "      <td>False</td>\n",
       "      <td>False</td>\n",
       "      <td>False</td>\n",
       "      <td>False</td>\n",
       "      <td>False</td>\n",
       "      <td>False</td>\n",
       "      <td>False</td>\n",
       "      <td>False</td>\n",
       "      <td>True</td>\n",
       "      <td>False</td>\n",
       "    </tr>\n",
       "    <tr>\n",
       "      <th>3</th>\n",
       "      <td>False</td>\n",
       "      <td>False</td>\n",
       "      <td>False</td>\n",
       "      <td>False</td>\n",
       "      <td>False</td>\n",
       "      <td>False</td>\n",
       "      <td>False</td>\n",
       "      <td>False</td>\n",
       "      <td>False</td>\n",
       "      <td>False</td>\n",
       "      <td>False</td>\n",
       "      <td>False</td>\n",
       "    </tr>\n",
       "    <tr>\n",
       "      <th>4</th>\n",
       "      <td>False</td>\n",
       "      <td>False</td>\n",
       "      <td>False</td>\n",
       "      <td>False</td>\n",
       "      <td>False</td>\n",
       "      <td>False</td>\n",
       "      <td>False</td>\n",
       "      <td>False</td>\n",
       "      <td>False</td>\n",
       "      <td>False</td>\n",
       "      <td>True</td>\n",
       "      <td>False</td>\n",
       "    </tr>\n",
       "    <tr>\n",
       "      <th>...</th>\n",
       "      <td>...</td>\n",
       "      <td>...</td>\n",
       "      <td>...</td>\n",
       "      <td>...</td>\n",
       "      <td>...</td>\n",
       "      <td>...</td>\n",
       "      <td>...</td>\n",
       "      <td>...</td>\n",
       "      <td>...</td>\n",
       "      <td>...</td>\n",
       "      <td>...</td>\n",
       "      <td>...</td>\n",
       "    </tr>\n",
       "    <tr>\n",
       "      <th>886</th>\n",
       "      <td>False</td>\n",
       "      <td>False</td>\n",
       "      <td>False</td>\n",
       "      <td>False</td>\n",
       "      <td>False</td>\n",
       "      <td>False</td>\n",
       "      <td>False</td>\n",
       "      <td>False</td>\n",
       "      <td>False</td>\n",
       "      <td>False</td>\n",
       "      <td>True</td>\n",
       "      <td>False</td>\n",
       "    </tr>\n",
       "    <tr>\n",
       "      <th>887</th>\n",
       "      <td>False</td>\n",
       "      <td>False</td>\n",
       "      <td>False</td>\n",
       "      <td>False</td>\n",
       "      <td>False</td>\n",
       "      <td>False</td>\n",
       "      <td>False</td>\n",
       "      <td>False</td>\n",
       "      <td>False</td>\n",
       "      <td>False</td>\n",
       "      <td>False</td>\n",
       "      <td>False</td>\n",
       "    </tr>\n",
       "    <tr>\n",
       "      <th>888</th>\n",
       "      <td>False</td>\n",
       "      <td>False</td>\n",
       "      <td>False</td>\n",
       "      <td>False</td>\n",
       "      <td>False</td>\n",
       "      <td>True</td>\n",
       "      <td>False</td>\n",
       "      <td>False</td>\n",
       "      <td>False</td>\n",
       "      <td>False</td>\n",
       "      <td>True</td>\n",
       "      <td>False</td>\n",
       "    </tr>\n",
       "    <tr>\n",
       "      <th>889</th>\n",
       "      <td>False</td>\n",
       "      <td>False</td>\n",
       "      <td>False</td>\n",
       "      <td>False</td>\n",
       "      <td>False</td>\n",
       "      <td>False</td>\n",
       "      <td>False</td>\n",
       "      <td>False</td>\n",
       "      <td>False</td>\n",
       "      <td>False</td>\n",
       "      <td>False</td>\n",
       "      <td>False</td>\n",
       "    </tr>\n",
       "    <tr>\n",
       "      <th>890</th>\n",
       "      <td>False</td>\n",
       "      <td>False</td>\n",
       "      <td>False</td>\n",
       "      <td>False</td>\n",
       "      <td>False</td>\n",
       "      <td>False</td>\n",
       "      <td>False</td>\n",
       "      <td>False</td>\n",
       "      <td>False</td>\n",
       "      <td>False</td>\n",
       "      <td>True</td>\n",
       "      <td>False</td>\n",
       "    </tr>\n",
       "  </tbody>\n",
       "</table>\n",
       "<p>891 rows × 12 columns</p>\n",
       "</div>"
      ],
      "text/plain": [
       "     PassengerId  Survived  Pclass   Name    Sex    Age  SibSp  Parch  Ticket  \\\n",
       "0          False     False   False  False  False  False  False  False   False   \n",
       "1          False     False   False  False  False  False  False  False   False   \n",
       "2          False     False   False  False  False  False  False  False   False   \n",
       "3          False     False   False  False  False  False  False  False   False   \n",
       "4          False     False   False  False  False  False  False  False   False   \n",
       "..           ...       ...     ...    ...    ...    ...    ...    ...     ...   \n",
       "886        False     False   False  False  False  False  False  False   False   \n",
       "887        False     False   False  False  False  False  False  False   False   \n",
       "888        False     False   False  False  False   True  False  False   False   \n",
       "889        False     False   False  False  False  False  False  False   False   \n",
       "890        False     False   False  False  False  False  False  False   False   \n",
       "\n",
       "      Fare  Cabin  Embarked  \n",
       "0    False   True     False  \n",
       "1    False  False     False  \n",
       "2    False   True     False  \n",
       "3    False  False     False  \n",
       "4    False   True     False  \n",
       "..     ...    ...       ...  \n",
       "886  False   True     False  \n",
       "887  False  False     False  \n",
       "888  False   True     False  \n",
       "889  False  False     False  \n",
       "890  False   True     False  \n",
       "\n",
       "[891 rows x 12 columns]"
      ]
     },
     "execution_count": 5,
     "metadata": {},
     "output_type": "execute_result"
    }
   ],
   "source": [
    "df.isnull()"
   ]
  },
  {
   "cell_type": "code",
   "execution_count": 6,
   "id": "4e060ec1",
   "metadata": {
    "execution": {
     "iopub.execute_input": "2024-03-05T13:51:01.565694Z",
     "iopub.status.busy": "2024-03-05T13:51:01.565316Z",
     "iopub.status.idle": "2024-03-05T13:51:01.871963Z",
     "shell.execute_reply": "2024-03-05T13:51:01.870807Z"
    },
    "papermill": {
     "duration": 0.328401,
     "end_time": "2024-03-05T13:51:01.874448",
     "exception": false,
     "start_time": "2024-03-05T13:51:01.546047",
     "status": "completed"
    },
    "tags": []
   },
   "outputs": [
    {
     "data": {
      "text/plain": [
       "<Axes: >"
      ]
     },
     "execution_count": 6,
     "metadata": {},
     "output_type": "execute_result"
    },
    {
     "data": {
      "image/png": "[encoded data removed]",
      "text/plain": [
       "<Figure size 640x480 with 1 Axes>"
      ]
     },
     "metadata": {},
     "output_type": "display_data"
    }
   ],
   "source": [
    "sns.heatmap(df.isnull(),yticklabels=False,cbar=False,cmap=\"cividis\")"
   ]
  },
  {
   "cell_type": "markdown",
   "id": "022cebcd",
   "metadata": {
    "papermill": {
     "duration": 0.019353,
     "end_time": "2024-03-05T13:51:01.912175",
     "exception": false,
     "start_time": "2024-03-05T13:51:01.892822",
     "status": "completed"
    },
    "tags": []
   },
   "source": [
    "Around 20 percent of Age data is missing. When we look at the heatmap of our dataframe the Age column looks less missing than the Cabin one. Cabin column looks like we are just missing too much of the data to do something useful with a basic level. We'll probably drop this later, or change it to another feature like 'Cabin Known : 1 or 0'.\n",
    "\n",
    "Let's continue onby visualizing some more of the data :"
   ]
  },
  {
   "cell_type": "markdown",
   "id": "baa2cd13",
   "metadata": {
    "papermill": {
     "duration": 0.018057,
     "end_time": "2024-03-05T13:51:01.948930",
     "exception": false,
     "start_time": "2024-03-05T13:51:01.930873",
     "status": "completed"
    },
    "tags": []
   },
   "source": [
    "## To create a countplot of the 'Survived' column using Seaborn with the 'whitegrid' style:\n"
   ]
  },
  {
   "cell_type": "code",
   "execution_count": 7,
   "id": "6b77bebe",
   "metadata": {
    "execution": {
     "iopub.execute_input": "2024-03-05T13:51:01.988268Z",
     "iopub.status.busy": "2024-03-05T13:51:01.987114Z",
     "iopub.status.idle": "2024-03-05T13:51:02.341110Z",
     "shell.execute_reply": "2024-03-05T13:51:02.339917Z"
    },
    "papermill": {
     "duration": 0.376745,
     "end_time": "2024-03-05T13:51:02.343932",
     "exception": false,
     "start_time": "2024-03-05T13:51:01.967187",
     "status": "completed"
    },
    "tags": []
   },
   "outputs": [
    {
     "data": {
      "text/plain": [
       "<Axes: xlabel='Survived', ylabel='count'>"
      ]
     },
     "execution_count": 7,
     "metadata": {},
     "output_type": "execute_result"
    },
    {
     "data": {
      "image/png": "[encoded data removed]",
      "text/plain": [
       "<Figure size 640x480 with 1 Axes>"
      ]
     },
     "metadata": {},
     "output_type": "display_data"
    }
   ],
   "source": [
    "sns.set_style('whitegrid')\n",
    "sns.countplot(x='Survived',data=df)"
   ]
  },
  {
   "cell_type": "markdown",
   "id": "d47737f2",
   "metadata": {
    "papermill": {
     "duration": 0.018533,
     "end_time": "2024-03-05T13:51:02.381380",
     "exception": false,
     "start_time": "2024-03-05T13:51:02.362847",
     "status": "completed"
    },
    "tags": []
   },
   "source": [
    "## To create a countplot of the 'Survived' column based on gender using Seaborn with the 'whitegrid' style and the 'RdBu_r' color palette:"
   ]
  },
  {
   "cell_type": "code",
   "execution_count": 8,
   "id": "eaf57396",
   "metadata": {
    "execution": {
     "iopub.execute_input": "2024-03-05T13:51:02.422323Z",
     "iopub.status.busy": "2024-03-05T13:51:02.421586Z",
     "iopub.status.idle": "2024-03-05T13:51:02.730982Z",
     "shell.execute_reply": "2024-03-05T13:51:02.729394Z"
    },
    "papermill": {
     "duration": 0.333848,
     "end_time": "2024-03-05T13:51:02.734017",
     "exception": false,
     "start_time": "2024-03-05T13:51:02.400169",
     "status": "completed"
    },
    "tags": []
   },
   "outputs": [
    {
     "data": {
      "text/plain": [
       "<Axes: xlabel='Survived', ylabel='count'>"
      ]
     },
     "execution_count": 8,
     "metadata": {},
     "output_type": "execute_result"
    },
    {
     "data": {
      "image/png": "[encoded data removed]",
      "text/plain": [
       "<Figure size 640x480 with 1 Axes>"
      ]
     },
     "metadata": {},
     "output_type": "display_data"
    }
   ],
   "source": [
    "sns.set_style(\"whitegrid\")\n",
    "sns.countplot(x=\"Survived\",data=df,hue=\"Sex\",palette= \"RdBu_r\")"
   ]
  },
  {
   "cell_type": "markdown",
   "id": "49aaa209",
   "metadata": {
    "papermill": {
     "duration": 0.019926,
     "end_time": "2024-03-05T13:51:02.773316",
     "exception": false,
     "start_time": "2024-03-05T13:51:02.753390",
     "status": "completed"
    },
    "tags": []
   },
   "source": [
    "## To create a countplot of the 'Survived' column based on passenger class using Seaborn with the 'whitegrid' style and the 'rainbow' color palette:"
   ]
  },
  {
   "cell_type": "code",
   "execution_count": 9,
   "id": "e0c41d5f",
   "metadata": {
    "execution": {
     "iopub.execute_input": "2024-03-05T13:51:02.815905Z",
     "iopub.status.busy": "2024-03-05T13:51:02.815201Z",
     "iopub.status.idle": "2024-03-05T13:51:03.168312Z",
     "shell.execute_reply": "2024-03-05T13:51:03.166999Z"
    },
    "papermill": {
     "duration": 0.377605,
     "end_time": "2024-03-05T13:51:03.171134",
     "exception": false,
     "start_time": "2024-03-05T13:51:02.793529",
     "status": "completed"
    },
    "tags": []
   },
   "outputs": [
    {
     "data": {
      "text/plain": [
       "<Axes: xlabel='Survived', ylabel='count'>"
      ]
     },
     "execution_count": 9,
     "metadata": {},
     "output_type": "execute_result"
    },
    {
     "data": {
      "image/png": "[encoded data removed]",
      "text/plain": [
       "<Figure size 640x480 with 1 Axes>"
      ]
     },
     "metadata": {},
     "output_type": "display_data"
    }
   ],
   "source": [
    "sns.set_style(\"whitegrid\")\n",
    "sns.countplot(x=\"Survived\",hue=\"Pclass\",data=df,palette=\"rainbow\")"
   ]
  },
  {
   "cell_type": "markdown",
   "id": "5396ee4e",
   "metadata": {
    "papermill": {
     "duration": 0.020175,
     "end_time": "2024-03-05T13:51:03.212243",
     "exception": false,
     "start_time": "2024-03-05T13:51:03.192068",
     "status": "completed"
    },
    "tags": []
   },
   "source": [
    "## Here I am using a displot to make a histogram of the 'Age' column without kernel density estimation (KDE) using Seaborn:"
   ]
  },
  {
   "cell_type": "code",
   "execution_count": 10,
   "id": "5c5fa29f",
   "metadata": {
    "execution": {
     "iopub.execute_input": "2024-03-05T13:51:03.255597Z",
     "iopub.status.busy": "2024-03-05T13:51:03.255136Z",
     "iopub.status.idle": "2024-03-05T13:51:04.195481Z",
     "shell.execute_reply": "2024-03-05T13:51:04.194586Z"
    },
    "papermill": {
     "duration": 0.964631,
     "end_time": "2024-03-05T13:51:04.197905",
     "exception": false,
     "start_time": "2024-03-05T13:51:03.233274",
     "status": "completed"
    },
    "tags": []
   },
   "outputs": [
    {
     "name": "stderr",
     "output_type": "stream",
     "text": [
      "/opt/conda/lib/python3.10/site-packages/seaborn/_oldcore.py:1119: FutureWarning: use_inf_as_na option is deprecated and will be removed in a future version. Convert inf values to NaN before operating instead.\n",
      "  with pd.option_context('mode.use_inf_as_na', True):\n"
     ]
    },
    {
     "data": {
      "text/plain": [
       "<seaborn.axisgrid.FacetGrid at 0x7e693d177e20>"
      ]
     },
     "execution_count": 10,
     "metadata": {},
     "output_type": "execute_result"
    },
    {
     "data": {
      "image/png": "[encoded data removed]",
      "text/plain": [
       "<Figure size 500x500 with 1 Axes>"
      ]
     },
     "metadata": {},
     "output_type": "display_data"
    }
   ],
   "source": [
    "sns.displot(df['Age'].dropna(),kde=False,color='darkred',bins=40)"
   ]
  },
  {
   "cell_type": "markdown",
   "id": "6c51575d",
   "metadata": {
    "papermill": {
     "duration": 0.020414,
     "end_time": "2024-03-05T13:51:04.239438",
     "exception": false,
     "start_time": "2024-03-05T13:51:04.219024",
     "status": "completed"
    },
    "tags": []
   },
   "source": [
    "## We here find out the Sibling and Spouse counts using bar plot :"
   ]
  },
  {
   "cell_type": "code",
   "execution_count": 11,
   "id": "7e012e96",
   "metadata": {
    "execution": {
     "iopub.execute_input": "2024-03-05T13:51:04.285103Z",
     "iopub.status.busy": "2024-03-05T13:51:04.284440Z",
     "iopub.status.idle": "2024-03-05T13:51:04.661461Z",
     "shell.execute_reply": "2024-03-05T13:51:04.659254Z"
    },
    "papermill": {
     "duration": 0.40204,
     "end_time": "2024-03-05T13:51:04.664502",
     "exception": false,
     "start_time": "2024-03-05T13:51:04.262462",
     "status": "completed"
    },
    "tags": []
   },
   "outputs": [
    {
     "data": {
      "text/plain": [
       "<Axes: xlabel='SibSp', ylabel='count'>"
      ]
     },
     "execution_count": 11,
     "metadata": {},
     "output_type": "execute_result"
    },
    {
     "data": {
      "image/png": "[encoded data removed]",
      "text/plain": [
       "<Figure size 640x480 with 1 Axes>"
      ]
     },
     "metadata": {},
     "output_type": "display_data"
    }
   ],
   "source": [
    "sns.countplot(x=\"SibSp\",data=df)"
   ]
  },
  {
   "cell_type": "markdown",
   "id": "715b5601",
   "metadata": {
    "papermill": {
     "duration": 0.091409,
     "end_time": "2024-03-05T13:51:04.778255",
     "exception": false,
     "start_time": "2024-03-05T13:51:04.686846",
     "status": "completed"
    },
    "tags": []
   },
   "source": [
    "## A histogram of the 'Fare' column using Pandas:\n"
   ]
  },
  {
   "cell_type": "code",
   "execution_count": 12,
   "id": "03c723df",
   "metadata": {
    "execution": {
     "iopub.execute_input": "2024-03-05T13:51:04.826922Z",
     "iopub.status.busy": "2024-03-05T13:51:04.826519Z",
     "iopub.status.idle": "2024-03-05T13:51:05.286771Z",
     "shell.execute_reply": "2024-03-05T13:51:05.285412Z"
    },
    "papermill": {
     "duration": 0.489328,
     "end_time": "2024-03-05T13:51:05.289411",
     "exception": false,
     "start_time": "2024-03-05T13:51:04.800083",
     "status": "completed"
    },
    "tags": []
   },
   "outputs": [
    {
     "data": {
      "text/plain": [
       "<Axes: >"
      ]
     },
     "execution_count": 12,
     "metadata": {},
     "output_type": "execute_result"
    },
    {
     "data": {
      "image/png": "[encoded data removed]",
      "text/plain": [
       "<Figure size 800x400 with 1 Axes>"
      ]
     },
     "metadata": {},
     "output_type": "display_data"
    }
   ],
   "source": [
    "df['Fare'].hist(color='green',bins=30,figsize=(8,4))"
   ]
  },
  {
   "cell_type": "markdown",
   "id": "adee9d21",
   "metadata": {
    "papermill": {
     "duration": 0.022754,
     "end_time": "2024-03-05T13:51:05.334890",
     "exception": false,
     "start_time": "2024-03-05T13:51:05.312136",
     "status": "completed"
    },
    "tags": []
   },
   "source": [
    "# Data Cleaning\n",
    "We want to fill in missing age data instead of just dropping the missing age data rows. One way to do this is by filling in the mean age of all the passengers (imputation). However we can be smarter about this and check the average age by passenger class. For example:\n",
    "\n",
    "### A boxplot showing the distribution of ages across different passenger classes using Seaborn:"
   ]
  },
  {
   "cell_type": "code",
   "execution_count": 13,
   "id": "e66354ed",
   "metadata": {
    "execution": {
     "iopub.execute_input": "2024-03-05T13:51:05.382172Z",
     "iopub.status.busy": "2024-03-05T13:51:05.380978Z",
     "iopub.status.idle": "2024-03-05T13:51:05.803711Z",
     "shell.execute_reply": "2024-03-05T13:51:05.802417Z"
    },
    "papermill": {
     "duration": 0.449146,
     "end_time": "2024-03-05T13:51:05.806544",
     "exception": false,
     "start_time": "2024-03-05T13:51:05.357398",
     "status": "completed"
    },
    "tags": []
   },
   "outputs": [
    {
     "data": {
      "text/plain": [
       "<Axes: xlabel='Pclass', ylabel='Age'>"
      ]
     },
     "execution_count": 13,
     "metadata": {},
     "output_type": "execute_result"
    },
    {
     "data": {
      "image/png": "[encoded data removed]",
      "text/plain": [
       "<Figure size 1200x700 with 1 Axes>"
      ]
     },
     "metadata": {},
     "output_type": "display_data"
    }
   ],
   "source": [
    "plt.figure(figsize=(12,7))\n",
    "sns.boxplot(x='Pclass', y='Age', data=df, palette='winter')"
   ]
  },
  {
   "cell_type": "markdown",
   "id": "5439794a",
   "metadata": {
    "papermill": {
     "duration": 0.022281,
     "end_time": "2024-03-05T13:51:05.854418",
     "exception": false,
     "start_time": "2024-03-05T13:51:05.832137",
     "status": "completed"
    },
    "tags": []
   },
   "source": [
    "We can see the wealthier passengers in the higher classes tend to be older, which makes sense. We'll use these average age values to impute based on Pclass for Age."
   ]
  },
  {
   "cell_type": "code",
   "execution_count": 14,
   "id": "8bf9fbfb",
   "metadata": {
    "execution": {
     "iopub.execute_input": "2024-03-05T13:51:05.917505Z",
     "iopub.status.busy": "2024-03-05T13:51:05.916708Z",
     "iopub.status.idle": "2024-03-05T13:51:05.923144Z",
     "shell.execute_reply": "2024-03-05T13:51:05.922148Z"
    },
    "papermill": {
     "duration": 0.042036,
     "end_time": "2024-03-05T13:51:05.926685",
     "exception": false,
     "start_time": "2024-03-05T13:51:05.884649",
     "status": "completed"
    },
    "tags": []
   },
   "outputs": [],
   "source": [
    "def impute_age(cols):\n",
    "    Age = cols[0]\n",
    "    Pclass = cols[1]\n",
    "    \n",
    "    if pd.isnull(Age):\n",
    "        \n",
    "        if Pclass == 1:\n",
    "            return 37\n",
    "            \n",
    "        elif Pclass == 2:\n",
    "                return 29\n",
    "            \n",
    "        else:\n",
    "                return 24\n",
    "    else :\n",
    "                return Age"
   ]
  },
  {
   "cell_type": "markdown",
   "id": "17189661",
   "metadata": {
    "papermill": {
     "duration": 0.023154,
     "end_time": "2024-03-05T13:51:05.976514",
     "exception": false,
     "start_time": "2024-03-05T13:51:05.953360",
     "status": "completed"
    },
    "tags": []
   },
   "source": [
    "Now we apply that function!"
   ]
  },
  {
   "cell_type": "code",
   "execution_count": 15,
   "id": "c36c7513",
   "metadata": {
    "execution": {
     "iopub.execute_input": "2024-03-05T13:51:06.025780Z",
     "iopub.status.busy": "2024-03-05T13:51:06.024331Z",
     "iopub.status.idle": "2024-03-05T13:51:06.084028Z",
     "shell.execute_reply": "2024-03-05T13:51:06.082795Z"
    },
    "papermill": {
     "duration": 0.088435,
     "end_time": "2024-03-05T13:51:06.087849",
     "exception": false,
     "start_time": "2024-03-05T13:51:05.999414",
     "status": "completed"
    },
    "tags": []
   },
   "outputs": [
    {
     "name": "stderr",
     "output_type": "stream",
     "text": [
      "/tmp/ipykernel_18/2913033554.py:2: FutureWarning: Series.__getitem__ treating keys as positions is deprecated. In a future version, integer keys will always be treated as labels (consistent with DataFrame behavior). To access a value by position, use `ser.iloc[pos]`\n",
      "  Age = cols[0]\n",
      "/tmp/ipykernel_18/2913033554.py:3: FutureWarning: Series.__getitem__ treating keys as positions is deprecated. In a future version, integer keys will always be treated as labels (consistent with DataFrame behavior). To access a value by position, use `ser.iloc[pos]`\n",
      "  Pclass = cols[1]\n"
     ]
    }
   ],
   "source": [
    "df[\"Age\"] = df[[\"Age\",\"Pclass\"]].apply(impute_age,axis=1)"
   ]
  },
  {
   "cell_type": "code",
   "execution_count": 16,
   "id": "4c75e3f2",
   "metadata": {
    "execution": {
     "iopub.execute_input": "2024-03-05T13:51:06.145910Z",
     "iopub.status.busy": "2024-03-05T13:51:06.145469Z",
     "iopub.status.idle": "2024-03-05T13:51:06.606187Z",
     "shell.execute_reply": "2024-03-05T13:51:06.605301Z"
    },
    "papermill": {
     "duration": 0.49386,
     "end_time": "2024-03-05T13:51:06.608688",
     "exception": false,
     "start_time": "2024-03-05T13:51:06.114828",
     "status": "completed"
    },
    "tags": []
   },
   "outputs": [
    {
     "data": {
      "text/plain": [
       "<Axes: >"
      ]
     },
     "execution_count": 16,
     "metadata": {},
     "output_type": "execute_result"
    },
    {
     "data": {
      "image/png": "[encoded data removed]",
      "text/plain": [
       "<Figure size 640x480 with 1 Axes>"
      ]
     },
     "metadata": {},
     "output_type": "display_data"
    }
   ],
   "source": [
    "sns.heatmap(df.isnull(),yticklabels=False,cbar=False,cmap='viridis')"
   ]
  },
  {
   "cell_type": "markdown",
   "id": "b574853d",
   "metadata": {
    "papermill": {
     "duration": 0.023279,
     "end_time": "2024-03-05T13:51:06.655195",
     "exception": false,
     "start_time": "2024-03-05T13:51:06.631916",
     "status": "completed"
    },
    "tags": []
   },
   "source": [
    "### Let's go ahead and drop the Cabin column."
   ]
  },
  {
   "cell_type": "code",
   "execution_count": 17,
   "id": "cb9256f0",
   "metadata": {
    "execution": {
     "iopub.execute_input": "2024-03-05T13:51:06.706832Z",
     "iopub.status.busy": "2024-03-05T13:51:06.705681Z",
     "iopub.status.idle": "2024-03-05T13:51:06.714079Z",
     "shell.execute_reply": "2024-03-05T13:51:06.713279Z"
    },
    "papermill": {
     "duration": 0.037697,
     "end_time": "2024-03-05T13:51:06.716585",
     "exception": false,
     "start_time": "2024-03-05T13:51:06.678888",
     "status": "completed"
    },
    "tags": []
   },
   "outputs": [],
   "source": [
    "df.drop('Cabin',axis=1,inplace=True)"
   ]
  },
  {
   "cell_type": "code",
   "execution_count": 18,
   "id": "baefe0a2",
   "metadata": {
    "execution": {
     "iopub.execute_input": "2024-03-05T13:51:06.765620Z",
     "iopub.status.busy": "2024-03-05T13:51:06.764816Z",
     "iopub.status.idle": "2024-03-05T13:51:06.782231Z",
     "shell.execute_reply": "2024-03-05T13:51:06.781004Z"
    },
    "papermill": {
     "duration": 0.044891,
     "end_time": "2024-03-05T13:51:06.784770",
     "exception": false,
     "start_time": "2024-03-05T13:51:06.739879",
     "status": "completed"
    },
    "tags": []
   },
   "outputs": [
    {
     "data": {
      "text/html": [
       "<div>\n",
       "<style scoped>\n",
       "    .dataframe tbody tr th:only-of-type {\n",
       "        vertical-align: middle;\n",
       "    }\n",
       "\n",
       "    .dataframe tbody tr th {\n",
       "        vertical-align: top;\n",
       "    }\n",
       "\n",
       "    .dataframe thead th {\n",
       "        text-align: right;\n",
       "    }\n",
       "</style>\n",
       "<table border=\"1\" class=\"dataframe\">\n",
       "  <thead>\n",
       "    <tr style=\"text-align: right;\">\n",
       "      <th></th>\n",
       "      <th>PassengerId</th>\n",
       "      <th>Survived</th>\n",
       "      <th>Pclass</th>\n",
       "      <th>Name</th>\n",
       "      <th>Sex</th>\n",
       "      <th>Age</th>\n",
       "      <th>SibSp</th>\n",
       "      <th>Parch</th>\n",
       "      <th>Ticket</th>\n",
       "      <th>Fare</th>\n",
       "      <th>Embarked</th>\n",
       "    </tr>\n",
       "  </thead>\n",
       "  <tbody>\n",
       "    <tr>\n",
       "      <th>0</th>\n",
       "      <td>1</td>\n",
       "      <td>0</td>\n",
       "      <td>3</td>\n",
       "      <td>Braund, Mr. Owen Harris</td>\n",
       "      <td>male</td>\n",
       "      <td>22.0</td>\n",
       "      <td>1</td>\n",
       "      <td>0</td>\n",
       "      <td>A/5 21171</td>\n",
       "      <td>7.2500</td>\n",
       "      <td>S</td>\n",
       "    </tr>\n",
       "    <tr>\n",
       "      <th>1</th>\n",
       "      <td>2</td>\n",
       "      <td>1</td>\n",
       "      <td>1</td>\n",
       "      <td>Cumings, Mrs. John Bradley (Florence Briggs Th...</td>\n",
       "      <td>female</td>\n",
       "      <td>38.0</td>\n",
       "      <td>1</td>\n",
       "      <td>0</td>\n",
       "      <td>PC 17599</td>\n",
       "      <td>71.2833</td>\n",
       "      <td>C</td>\n",
       "    </tr>\n",
       "    <tr>\n",
       "      <th>2</th>\n",
       "      <td>3</td>\n",
       "      <td>1</td>\n",
       "      <td>3</td>\n",
       "      <td>Heikkinen, Miss. Laina</td>\n",
       "      <td>female</td>\n",
       "      <td>26.0</td>\n",
       "      <td>0</td>\n",
       "      <td>0</td>\n",
       "      <td>STON/O2. 3101282</td>\n",
       "      <td>7.9250</td>\n",
       "      <td>S</td>\n",
       "    </tr>\n",
       "    <tr>\n",
       "      <th>3</th>\n",
       "      <td>4</td>\n",
       "      <td>1</td>\n",
       "      <td>1</td>\n",
       "      <td>Futrelle, Mrs. Jacques Heath (Lily May Peel)</td>\n",
       "      <td>female</td>\n",
       "      <td>35.0</td>\n",
       "      <td>1</td>\n",
       "      <td>0</td>\n",
       "      <td>113803</td>\n",
       "      <td>53.1000</td>\n",
       "      <td>S</td>\n",
       "    </tr>\n",
       "    <tr>\n",
       "      <th>4</th>\n",
       "      <td>5</td>\n",
       "      <td>0</td>\n",
       "      <td>3</td>\n",
       "      <td>Allen, Mr. William Henry</td>\n",
       "      <td>male</td>\n",
       "      <td>35.0</td>\n",
       "      <td>0</td>\n",
       "      <td>0</td>\n",
       "      <td>373450</td>\n",
       "      <td>8.0500</td>\n",
       "      <td>S</td>\n",
       "    </tr>\n",
       "  </tbody>\n",
       "</table>\n",
       "</div>"
      ],
      "text/plain": [
       "   PassengerId  Survived  Pclass  \\\n",
       "0            1         0       3   \n",
       "1            2         1       1   \n",
       "2            3         1       3   \n",
       "3            4         1       1   \n",
       "4            5         0       3   \n",
       "\n",
       "                                                Name     Sex   Age  SibSp  \\\n",
       "0                            Braund, Mr. Owen Harris    male  22.0      1   \n",
       "1  Cumings, Mrs. John Bradley (Florence Briggs Th...  female  38.0      1   \n",
       "2                             Heikkinen, Miss. Laina  female  26.0      0   \n",
       "3       Futrelle, Mrs. Jacques Heath (Lily May Peel)  female  35.0      1   \n",
       "4                           Allen, Mr. William Henry    male  35.0      0   \n",
       "\n",
       "   Parch            Ticket     Fare Embarked  \n",
       "0      0         A/5 21171   7.2500        S  \n",
       "1      0          PC 17599  71.2833        C  \n",
       "2      0  STON/O2. 3101282   7.9250        S  \n",
       "3      0            113803  53.1000        S  \n",
       "4      0            373450   8.0500        S  "
      ]
     },
     "execution_count": 18,
     "metadata": {},
     "output_type": "execute_result"
    }
   ],
   "source": [
    "df.head()"
   ]
  },
  {
   "cell_type": "markdown",
   "id": "0a785798",
   "metadata": {
    "papermill": {
     "duration": 0.022881,
     "end_time": "2024-03-05T13:51:06.830938",
     "exception": false,
     "start_time": "2024-03-05T13:51:06.808057",
     "status": "completed"
    },
    "tags": []
   },
   "source": [
    "Now check let's check the heatmap again."
   ]
  },
  {
   "cell_type": "code",
   "execution_count": 19,
   "id": "a81c6eec",
   "metadata": {
    "execution": {
     "iopub.execute_input": "2024-03-05T13:51:06.880377Z",
     "iopub.status.busy": "2024-03-05T13:51:06.879624Z",
     "iopub.status.idle": "2024-03-05T13:51:07.294194Z",
     "shell.execute_reply": "2024-03-05T13:51:07.292878Z"
    },
    "papermill": {
     "duration": 0.441995,
     "end_time": "2024-03-05T13:51:07.297044",
     "exception": false,
     "start_time": "2024-03-05T13:51:06.855049",
     "status": "completed"
    },
    "tags": []
   },
   "outputs": [
    {
     "data": {
      "text/plain": [
       "<Axes: >"
      ]
     },
     "execution_count": 19,
     "metadata": {},
     "output_type": "execute_result"
    },
    {
     "data": {
      "image/png": "[encoded data removed]",
      "text/plain": [
       "<Figure size 640x480 with 1 Axes>"
      ]
     },
     "metadata": {},
     "output_type": "display_data"
    }
   ],
   "source": [
    "sns.heatmap(df.isnull(),yticklabels=False,cbar=False,cmap=\"viridis\")"
   ]
  },
  {
   "cell_type": "markdown",
   "id": "6298b5cc",
   "metadata": {
    "papermill": {
     "duration": 0.023842,
     "end_time": "2024-03-05T13:51:07.344916",
     "exception": false,
     "start_time": "2024-03-05T13:51:07.321074",
     "status": "completed"
    },
    "tags": []
   },
   "source": [
    "# Converting Categorical Features\n",
    "We'll need to convert categorical features to dummy variables using pandas! Otherwise our machine learning algorithm won't be able to directly take in those features as inputs."
   ]
  },
  {
   "cell_type": "code",
   "execution_count": 20,
   "id": "e94c87e7",
   "metadata": {
    "execution": {
     "iopub.execute_input": "2024-03-05T13:51:07.396592Z",
     "iopub.status.busy": "2024-03-05T13:51:07.395709Z",
     "iopub.status.idle": "2024-03-05T13:51:07.416054Z",
     "shell.execute_reply": "2024-03-05T13:51:07.414325Z"
    },
    "papermill": {
     "duration": 0.050039,
     "end_time": "2024-03-05T13:51:07.419012",
     "exception": false,
     "start_time": "2024-03-05T13:51:07.368973",
     "status": "completed"
    },
    "tags": []
   },
   "outputs": [
    {
     "name": "stdout",
     "output_type": "stream",
     "text": [
      "<class 'pandas.core.frame.DataFrame'>\n",
      "RangeIndex: 891 entries, 0 to 890\n",
      "Data columns (total 11 columns):\n",
      " #   Column       Non-Null Count  Dtype  \n",
      "---  ------       --------------  -----  \n",
      " 0   PassengerId  891 non-null    int64  \n",
      " 1   Survived     891 non-null    int64  \n",
      " 2   Pclass       891 non-null    int64  \n",
      " 3   Name         891 non-null    object \n",
      " 4   Sex          891 non-null    object \n",
      " 5   Age          891 non-null    float64\n",
      " 6   SibSp        891 non-null    int64  \n",
      " 7   Parch        891 non-null    int64  \n",
      " 8   Ticket       891 non-null    object \n",
      " 9   Fare         891 non-null    float64\n",
      " 10  Embarked     889 non-null    object \n",
      "dtypes: float64(2), int64(5), object(4)\n",
      "memory usage: 76.7+ KB\n"
     ]
    }
   ],
   "source": [
    "df.info()"
   ]
  },
  {
   "cell_type": "code",
   "execution_count": 21,
   "id": "518331eb",
   "metadata": {
    "execution": {
     "iopub.execute_input": "2024-03-05T13:51:07.468860Z",
     "iopub.status.busy": "2024-03-05T13:51:07.468140Z",
     "iopub.status.idle": "2024-03-05T13:51:07.481057Z",
     "shell.execute_reply": "2024-03-05T13:51:07.479828Z"
    },
    "papermill": {
     "duration": 0.040308,
     "end_time": "2024-03-05T13:51:07.483558",
     "exception": false,
     "start_time": "2024-03-05T13:51:07.443250",
     "status": "completed"
    },
    "tags": []
   },
   "outputs": [
    {
     "data": {
      "text/html": [
       "<div>\n",
       "<style scoped>\n",
       "    .dataframe tbody tr th:only-of-type {\n",
       "        vertical-align: middle;\n",
       "    }\n",
       "\n",
       "    .dataframe tbody tr th {\n",
       "        vertical-align: top;\n",
       "    }\n",
       "\n",
       "    .dataframe thead th {\n",
       "        text-align: right;\n",
       "    }\n",
       "</style>\n",
       "<table border=\"1\" class=\"dataframe\">\n",
       "  <thead>\n",
       "    <tr style=\"text-align: right;\">\n",
       "      <th></th>\n",
       "      <th>Q</th>\n",
       "      <th>S</th>\n",
       "    </tr>\n",
       "  </thead>\n",
       "  <tbody>\n",
       "    <tr>\n",
       "      <th>0</th>\n",
       "      <td>0</td>\n",
       "      <td>1</td>\n",
       "    </tr>\n",
       "    <tr>\n",
       "      <th>1</th>\n",
       "      <td>0</td>\n",
       "      <td>0</td>\n",
       "    </tr>\n",
       "    <tr>\n",
       "      <th>2</th>\n",
       "      <td>0</td>\n",
       "      <td>1</td>\n",
       "    </tr>\n",
       "    <tr>\n",
       "      <th>3</th>\n",
       "      <td>0</td>\n",
       "      <td>1</td>\n",
       "    </tr>\n",
       "    <tr>\n",
       "      <th>4</th>\n",
       "      <td>0</td>\n",
       "      <td>1</td>\n",
       "    </tr>\n",
       "  </tbody>\n",
       "</table>\n",
       "</div>"
      ],
      "text/plain": [
       "   Q  S\n",
       "0  0  1\n",
       "1  0  0\n",
       "2  0  1\n",
       "3  0  1\n",
       "4  0  1"
      ]
     },
     "execution_count": 21,
     "metadata": {},
     "output_type": "execute_result"
    }
   ],
   "source": [
    "pd.get_dummies(df['Embarked'],drop_first=True).astype(int).head()"
   ]
  },
  {
   "cell_type": "code",
   "execution_count": 22,
   "id": "97648a94",
   "metadata": {
    "execution": {
     "iopub.execute_input": "2024-03-05T13:51:07.535334Z",
     "iopub.status.busy": "2024-03-05T13:51:07.534660Z",
     "iopub.status.idle": "2024-03-05T13:51:07.542913Z",
     "shell.execute_reply": "2024-03-05T13:51:07.542028Z"
    },
    "papermill": {
     "duration": 0.037738,
     "end_time": "2024-03-05T13:51:07.545516",
     "exception": false,
     "start_time": "2024-03-05T13:51:07.507778",
     "status": "completed"
    },
    "tags": []
   },
   "outputs": [],
   "source": [
    "sex = pd.get_dummies(df[\"Sex\"],drop_first=True).astype(int)\n",
    "embark = pd.get_dummies(df[\"Embarked\"],drop_first=True).astype(int)"
   ]
  },
  {
   "cell_type": "code",
   "execution_count": 23,
   "id": "6ebf3fd1",
   "metadata": {
    "execution": {
     "iopub.execute_input": "2024-03-05T13:51:07.599087Z",
     "iopub.status.busy": "2024-03-05T13:51:07.598649Z",
     "iopub.status.idle": "2024-03-05T13:51:07.605155Z",
     "shell.execute_reply": "2024-03-05T13:51:07.604224Z"
    },
    "papermill": {
     "duration": 0.035634,
     "end_time": "2024-03-05T13:51:07.607717",
     "exception": false,
     "start_time": "2024-03-05T13:51:07.572083",
     "status": "completed"
    },
    "tags": []
   },
   "outputs": [],
   "source": [
    "df.drop([\"Sex\",\"Name\",\"Embarked\",\"Ticket\"],axis=1,inplace=True)"
   ]
  },
  {
   "cell_type": "code",
   "execution_count": 24,
   "id": "0aca7e8a",
   "metadata": {
    "execution": {
     "iopub.execute_input": "2024-03-05T13:51:07.659908Z",
     "iopub.status.busy": "2024-03-05T13:51:07.658735Z",
     "iopub.status.idle": "2024-03-05T13:51:07.673502Z",
     "shell.execute_reply": "2024-03-05T13:51:07.672294Z"
    },
    "papermill": {
     "duration": 0.043295,
     "end_time": "2024-03-05T13:51:07.676686",
     "exception": false,
     "start_time": "2024-03-05T13:51:07.633391",
     "status": "completed"
    },
    "tags": []
   },
   "outputs": [
    {
     "data": {
      "text/html": [
       "<div>\n",
       "<style scoped>\n",
       "    .dataframe tbody tr th:only-of-type {\n",
       "        vertical-align: middle;\n",
       "    }\n",
       "\n",
       "    .dataframe tbody tr th {\n",
       "        vertical-align: top;\n",
       "    }\n",
       "\n",
       "    .dataframe thead th {\n",
       "        text-align: right;\n",
       "    }\n",
       "</style>\n",
       "<table border=\"1\" class=\"dataframe\">\n",
       "  <thead>\n",
       "    <tr style=\"text-align: right;\">\n",
       "      <th></th>\n",
       "      <th>PassengerId</th>\n",
       "      <th>Survived</th>\n",
       "      <th>Pclass</th>\n",
       "      <th>Age</th>\n",
       "      <th>SibSp</th>\n",
       "      <th>Parch</th>\n",
       "      <th>Fare</th>\n",
       "    </tr>\n",
       "  </thead>\n",
       "  <tbody>\n",
       "    <tr>\n",
       "      <th>0</th>\n",
       "      <td>1</td>\n",
       "      <td>0</td>\n",
       "      <td>3</td>\n",
       "      <td>22.0</td>\n",
       "      <td>1</td>\n",
       "      <td>0</td>\n",
       "      <td>7.2500</td>\n",
       "    </tr>\n",
       "    <tr>\n",
       "      <th>1</th>\n",
       "      <td>2</td>\n",
       "      <td>1</td>\n",
       "      <td>1</td>\n",
       "      <td>38.0</td>\n",
       "      <td>1</td>\n",
       "      <td>0</td>\n",
       "      <td>71.2833</td>\n",
       "    </tr>\n",
       "    <tr>\n",
       "      <th>2</th>\n",
       "      <td>3</td>\n",
       "      <td>1</td>\n",
       "      <td>3</td>\n",
       "      <td>26.0</td>\n",
       "      <td>0</td>\n",
       "      <td>0</td>\n",
       "      <td>7.9250</td>\n",
       "    </tr>\n",
       "    <tr>\n",
       "      <th>3</th>\n",
       "      <td>4</td>\n",
       "      <td>1</td>\n",
       "      <td>1</td>\n",
       "      <td>35.0</td>\n",
       "      <td>1</td>\n",
       "      <td>0</td>\n",
       "      <td>53.1000</td>\n",
       "    </tr>\n",
       "    <tr>\n",
       "      <th>4</th>\n",
       "      <td>5</td>\n",
       "      <td>0</td>\n",
       "      <td>3</td>\n",
       "      <td>35.0</td>\n",
       "      <td>0</td>\n",
       "      <td>0</td>\n",
       "      <td>8.0500</td>\n",
       "    </tr>\n",
       "  </tbody>\n",
       "</table>\n",
       "</div>"
      ],
      "text/plain": [
       "   PassengerId  Survived  Pclass   Age  SibSp  Parch     Fare\n",
       "0            1         0       3  22.0      1      0   7.2500\n",
       "1            2         1       1  38.0      1      0  71.2833\n",
       "2            3         1       3  26.0      0      0   7.9250\n",
       "3            4         1       1  35.0      1      0  53.1000\n",
       "4            5         0       3  35.0      0      0   8.0500"
      ]
     },
     "execution_count": 24,
     "metadata": {},
     "output_type": "execute_result"
    }
   ],
   "source": [
    "df.head()"
   ]
  },
  {
   "cell_type": "code",
   "execution_count": 25,
   "id": "971d76a5",
   "metadata": {
    "execution": {
     "iopub.execute_input": "2024-03-05T13:51:07.730853Z",
     "iopub.status.busy": "2024-03-05T13:51:07.729602Z",
     "iopub.status.idle": "2024-03-05T13:51:07.735999Z",
     "shell.execute_reply": "2024-03-05T13:51:07.734774Z"
    },
    "papermill": {
     "duration": 0.035049,
     "end_time": "2024-03-05T13:51:07.738864",
     "exception": false,
     "start_time": "2024-03-05T13:51:07.703815",
     "status": "completed"
    },
    "tags": []
   },
   "outputs": [],
   "source": [
    "df = pd.concat([df,sex,embark],axis=1)"
   ]
  },
  {
   "cell_type": "code",
   "execution_count": 26,
   "id": "28dafc2f",
   "metadata": {
    "execution": {
     "iopub.execute_input": "2024-03-05T13:51:07.789926Z",
     "iopub.status.busy": "2024-03-05T13:51:07.789479Z",
     "iopub.status.idle": "2024-03-05T13:51:07.804729Z",
     "shell.execute_reply": "2024-03-05T13:51:07.803596Z"
    },
    "papermill": {
     "duration": 0.043893,
     "end_time": "2024-03-05T13:51:07.806975",
     "exception": false,
     "start_time": "2024-03-05T13:51:07.763082",
     "status": "completed"
    },
    "tags": []
   },
   "outputs": [
    {
     "data": {
      "text/html": [
       "<div>\n",
       "<style scoped>\n",
       "    .dataframe tbody tr th:only-of-type {\n",
       "        vertical-align: middle;\n",
       "    }\n",
       "\n",
       "    .dataframe tbody tr th {\n",
       "        vertical-align: top;\n",
       "    }\n",
       "\n",
       "    .dataframe thead th {\n",
       "        text-align: right;\n",
       "    }\n",
       "</style>\n",
       "<table border=\"1\" class=\"dataframe\">\n",
       "  <thead>\n",
       "    <tr style=\"text-align: right;\">\n",
       "      <th></th>\n",
       "      <th>PassengerId</th>\n",
       "      <th>Survived</th>\n",
       "      <th>Pclass</th>\n",
       "      <th>Age</th>\n",
       "      <th>SibSp</th>\n",
       "      <th>Parch</th>\n",
       "      <th>Fare</th>\n",
       "      <th>male</th>\n",
       "      <th>Q</th>\n",
       "      <th>S</th>\n",
       "    </tr>\n",
       "  </thead>\n",
       "  <tbody>\n",
       "    <tr>\n",
       "      <th>0</th>\n",
       "      <td>1</td>\n",
       "      <td>0</td>\n",
       "      <td>3</td>\n",
       "      <td>22.0</td>\n",
       "      <td>1</td>\n",
       "      <td>0</td>\n",
       "      <td>7.2500</td>\n",
       "      <td>1</td>\n",
       "      <td>0</td>\n",
       "      <td>1</td>\n",
       "    </tr>\n",
       "    <tr>\n",
       "      <th>1</th>\n",
       "      <td>2</td>\n",
       "      <td>1</td>\n",
       "      <td>1</td>\n",
       "      <td>38.0</td>\n",
       "      <td>1</td>\n",
       "      <td>0</td>\n",
       "      <td>71.2833</td>\n",
       "      <td>0</td>\n",
       "      <td>0</td>\n",
       "      <td>0</td>\n",
       "    </tr>\n",
       "    <tr>\n",
       "      <th>2</th>\n",
       "      <td>3</td>\n",
       "      <td>1</td>\n",
       "      <td>3</td>\n",
       "      <td>26.0</td>\n",
       "      <td>0</td>\n",
       "      <td>0</td>\n",
       "      <td>7.9250</td>\n",
       "      <td>0</td>\n",
       "      <td>0</td>\n",
       "      <td>1</td>\n",
       "    </tr>\n",
       "    <tr>\n",
       "      <th>3</th>\n",
       "      <td>4</td>\n",
       "      <td>1</td>\n",
       "      <td>1</td>\n",
       "      <td>35.0</td>\n",
       "      <td>1</td>\n",
       "      <td>0</td>\n",
       "      <td>53.1000</td>\n",
       "      <td>0</td>\n",
       "      <td>0</td>\n",
       "      <td>1</td>\n",
       "    </tr>\n",
       "    <tr>\n",
       "      <th>4</th>\n",
       "      <td>5</td>\n",
       "      <td>0</td>\n",
       "      <td>3</td>\n",
       "      <td>35.0</td>\n",
       "      <td>0</td>\n",
       "      <td>0</td>\n",
       "      <td>8.0500</td>\n",
       "      <td>1</td>\n",
       "      <td>0</td>\n",
       "      <td>1</td>\n",
       "    </tr>\n",
       "  </tbody>\n",
       "</table>\n",
       "</div>"
      ],
      "text/plain": [
       "   PassengerId  Survived  Pclass   Age  SibSp  Parch     Fare  male  Q  S\n",
       "0            1         0       3  22.0      1      0   7.2500     1  0  1\n",
       "1            2         1       1  38.0      1      0  71.2833     0  0  0\n",
       "2            3         1       3  26.0      0      0   7.9250     0  0  1\n",
       "3            4         1       1  35.0      1      0  53.1000     0  0  1\n",
       "4            5         0       3  35.0      0      0   8.0500     1  0  1"
      ]
     },
     "execution_count": 26,
     "metadata": {},
     "output_type": "execute_result"
    }
   ],
   "source": [
    "df.head()"
   ]
  },
  {
   "cell_type": "markdown",
   "id": "34f85d9f",
   "metadata": {
    "papermill": {
     "duration": 0.024648,
     "end_time": "2024-03-05T13:51:07.857075",
     "exception": false,
     "start_time": "2024-03-05T13:51:07.832427",
     "status": "completed"
    },
    "tags": []
   },
   "source": [
    "# Building a Logistic Regression model\n",
    "let's start by splitting our data into a training set and test set."
   ]
  },
  {
   "cell_type": "code",
   "execution_count": 27,
   "id": "85147d4e",
   "metadata": {
    "execution": {
     "iopub.execute_input": "2024-03-05T13:51:07.909583Z",
     "iopub.status.busy": "2024-03-05T13:51:07.909123Z",
     "iopub.status.idle": "2024-03-05T13:51:07.925942Z",
     "shell.execute_reply": "2024-03-05T13:51:07.924680Z"
    },
    "papermill": {
     "duration": 0.04546,
     "end_time": "2024-03-05T13:51:07.928502",
     "exception": false,
     "start_time": "2024-03-05T13:51:07.883042",
     "status": "completed"
    },
    "tags": []
   },
   "outputs": [
    {
     "data": {
      "text/html": [
       "<div>\n",
       "<style scoped>\n",
       "    .dataframe tbody tr th:only-of-type {\n",
       "        vertical-align: middle;\n",
       "    }\n",
       "\n",
       "    .dataframe tbody tr th {\n",
       "        vertical-align: top;\n",
       "    }\n",
       "\n",
       "    .dataframe thead th {\n",
       "        text-align: right;\n",
       "    }\n",
       "</style>\n",
       "<table border=\"1\" class=\"dataframe\">\n",
       "  <thead>\n",
       "    <tr style=\"text-align: right;\">\n",
       "      <th></th>\n",
       "      <th>PassengerId</th>\n",
       "      <th>Pclass</th>\n",
       "      <th>Age</th>\n",
       "      <th>SibSp</th>\n",
       "      <th>Parch</th>\n",
       "      <th>Fare</th>\n",
       "      <th>male</th>\n",
       "      <th>Q</th>\n",
       "      <th>S</th>\n",
       "    </tr>\n",
       "  </thead>\n",
       "  <tbody>\n",
       "    <tr>\n",
       "      <th>0</th>\n",
       "      <td>1</td>\n",
       "      <td>3</td>\n",
       "      <td>22.0</td>\n",
       "      <td>1</td>\n",
       "      <td>0</td>\n",
       "      <td>7.2500</td>\n",
       "      <td>1</td>\n",
       "      <td>0</td>\n",
       "      <td>1</td>\n",
       "    </tr>\n",
       "    <tr>\n",
       "      <th>1</th>\n",
       "      <td>2</td>\n",
       "      <td>1</td>\n",
       "      <td>38.0</td>\n",
       "      <td>1</td>\n",
       "      <td>0</td>\n",
       "      <td>71.2833</td>\n",
       "      <td>0</td>\n",
       "      <td>0</td>\n",
       "      <td>0</td>\n",
       "    </tr>\n",
       "    <tr>\n",
       "      <th>2</th>\n",
       "      <td>3</td>\n",
       "      <td>3</td>\n",
       "      <td>26.0</td>\n",
       "      <td>0</td>\n",
       "      <td>0</td>\n",
       "      <td>7.9250</td>\n",
       "      <td>0</td>\n",
       "      <td>0</td>\n",
       "      <td>1</td>\n",
       "    </tr>\n",
       "    <tr>\n",
       "      <th>3</th>\n",
       "      <td>4</td>\n",
       "      <td>1</td>\n",
       "      <td>35.0</td>\n",
       "      <td>1</td>\n",
       "      <td>0</td>\n",
       "      <td>53.1000</td>\n",
       "      <td>0</td>\n",
       "      <td>0</td>\n",
       "      <td>1</td>\n",
       "    </tr>\n",
       "    <tr>\n",
       "      <th>4</th>\n",
       "      <td>5</td>\n",
       "      <td>3</td>\n",
       "      <td>35.0</td>\n",
       "      <td>0</td>\n",
       "      <td>0</td>\n",
       "      <td>8.0500</td>\n",
       "      <td>1</td>\n",
       "      <td>0</td>\n",
       "      <td>1</td>\n",
       "    </tr>\n",
       "  </tbody>\n",
       "</table>\n",
       "</div>"
      ],
      "text/plain": [
       "   PassengerId  Pclass   Age  SibSp  Parch     Fare  male  Q  S\n",
       "0            1       3  22.0      1      0   7.2500     1  0  1\n",
       "1            2       1  38.0      1      0  71.2833     0  0  0\n",
       "2            3       3  26.0      0      0   7.9250     0  0  1\n",
       "3            4       1  35.0      1      0  53.1000     0  0  1\n",
       "4            5       3  35.0      0      0   8.0500     1  0  1"
      ]
     },
     "execution_count": 27,
     "metadata": {},
     "output_type": "execute_result"
    }
   ],
   "source": [
    "df.drop(\"Survived\",axis=1).head()"
   ]
  },
  {
   "cell_type": "code",
   "execution_count": 28,
   "id": "886954a1",
   "metadata": {
    "execution": {
     "iopub.execute_input": "2024-03-05T13:51:07.980996Z",
     "iopub.status.busy": "2024-03-05T13:51:07.980611Z",
     "iopub.status.idle": "2024-03-05T13:51:07.989300Z",
     "shell.execute_reply": "2024-03-05T13:51:07.988303Z"
    },
    "papermill": {
     "duration": 0.037982,
     "end_time": "2024-03-05T13:51:07.991401",
     "exception": false,
     "start_time": "2024-03-05T13:51:07.953419",
     "status": "completed"
    },
    "tags": []
   },
   "outputs": [
    {
     "data": {
      "text/plain": [
       "0    0\n",
       "1    1\n",
       "2    1\n",
       "3    1\n",
       "4    0\n",
       "Name: Survived, dtype: int64"
      ]
     },
     "execution_count": 28,
     "metadata": {},
     "output_type": "execute_result"
    }
   ],
   "source": [
    "df[\"Survived\"].head()"
   ]
  },
  {
   "cell_type": "code",
   "execution_count": 29,
   "id": "240b9564",
   "metadata": {
    "execution": {
     "iopub.execute_input": "2024-03-05T13:51:08.042943Z",
     "iopub.status.busy": "2024-03-05T13:51:08.042509Z",
     "iopub.status.idle": "2024-03-05T13:51:08.309794Z",
     "shell.execute_reply": "2024-03-05T13:51:08.308863Z"
    },
    "papermill": {
     "duration": 0.295943,
     "end_time": "2024-03-05T13:51:08.312273",
     "exception": false,
     "start_time": "2024-03-05T13:51:08.016330",
     "status": "completed"
    },
    "tags": []
   },
   "outputs": [],
   "source": [
    "from sklearn.model_selection import train_test_split"
   ]
  },
  {
   "cell_type": "code",
   "execution_count": 30,
   "id": "bcca4650",
   "metadata": {
    "execution": {
     "iopub.execute_input": "2024-03-05T13:51:08.364849Z",
     "iopub.status.busy": "2024-03-05T13:51:08.363834Z",
     "iopub.status.idle": "2024-03-05T13:51:08.373250Z",
     "shell.execute_reply": "2024-03-05T13:51:08.372425Z"
    },
    "papermill": {
     "duration": 0.037869,
     "end_time": "2024-03-05T13:51:08.375570",
     "exception": false,
     "start_time": "2024-03-05T13:51:08.337701",
     "status": "completed"
    },
    "tags": []
   },
   "outputs": [],
   "source": [
    "x = df.drop([\"Survived\"], axis=1)\n",
    "y = df[\"Survived\"]\n",
    "x_train, x_test, y_train, y_test = train_test_split(x, y, test_size=0.30, random_state=101)"
   ]
  },
  {
   "cell_type": "markdown",
   "id": "fd85dcb3",
   "metadata": {
    "papermill": {
     "duration": 0.024237,
     "end_time": "2024-03-05T13:51:08.424688",
     "exception": false,
     "start_time": "2024-03-05T13:51:08.400451",
     "status": "completed"
    },
    "tags": []
   },
   "source": [
    "# Training and Predicting"
   ]
  },
  {
   "cell_type": "code",
   "execution_count": 31,
   "id": "104d41f2",
   "metadata": {
    "execution": {
     "iopub.execute_input": "2024-03-05T13:51:08.475865Z",
     "iopub.status.busy": "2024-03-05T13:51:08.475145Z",
     "iopub.status.idle": "2024-03-05T13:51:08.569606Z",
     "shell.execute_reply": "2024-03-05T13:51:08.568236Z"
    },
    "papermill": {
     "duration": 0.123169,
     "end_time": "2024-03-05T13:51:08.572484",
     "exception": false,
     "start_time": "2024-03-05T13:51:08.449315",
     "status": "completed"
    },
    "tags": []
   },
   "outputs": [],
   "source": [
    "from sklearn.linear_model import LogisticRegression"
   ]
  },
  {
   "cell_type": "code",
   "execution_count": 32,
   "id": "f09384a4",
   "metadata": {
    "execution": {
     "iopub.execute_input": "2024-03-05T13:51:08.623856Z",
     "iopub.status.busy": "2024-03-05T13:51:08.623469Z",
     "iopub.status.idle": "2024-03-05T13:51:08.737622Z",
     "shell.execute_reply": "2024-03-05T13:51:08.736506Z"
    },
    "papermill": {
     "duration": 0.142825,
     "end_time": "2024-03-05T13:51:08.740121",
     "exception": false,
     "start_time": "2024-03-05T13:51:08.597296",
     "status": "completed"
    },
    "tags": []
   },
   "outputs": [
    {
     "data": {
      "text/html": [
       "<style>#sk-container-id-1 {color: black;background-color: white;}#sk-container-id-1 pre{padding: 0;}#sk-container-id-1 div.sk-toggleable {background-color: white;}#sk-container-id-1 label.sk-toggleable__label {cursor: pointer;display: block;width: 100%;margin-bottom: 0;padding: 0.3em;box-sizing: border-box;text-align: center;}#sk-container-id-1 label.sk-toggleable__label-arrow:before {content: \"▸\";float: left;margin-right: 0.25em;color: #696969;}#sk-container-id-1 label.sk-toggleable__label-arrow:hover:before {color: black;}#sk-container-id-1 div.sk-estimator:hover label.sk-toggleable__label-arrow:before {color: black;}#sk-container-id-1 div.sk-toggleable__content {max-height: 0;max-width: 0;overflow: hidden;text-align: left;background-color: #f0f8ff;}#sk-container-id-1 div.sk-toggleable__content pre {margin: 0.2em;color: black;border-radius: 0.25em;background-color: #f0f8ff;}#sk-container-id-1 input.sk-toggleable__control:checked~div.sk-toggleable__content {max-height: 200px;max-width: 100%;overflow: auto;}#sk-container-id-1 input.sk-toggleable__control:checked~label.sk-toggleable__label-arrow:before {content: \"▾\";}#sk-container-id-1 div.sk-estimator input.sk-toggleable__control:checked~label.sk-toggleable__label {background-color: #d4ebff;}#sk-container-id-1 div.sk-label input.sk-toggleable__control:checked~label.sk-toggleable__label {background-color: #d4ebff;}#sk-container-id-1 input.sk-hidden--visually {border: 0;clip: rect(1px 1px 1px 1px);clip: rect(1px, 1px, 1px, 1px);height: 1px;margin: -1px;overflow: hidden;padding: 0;position: absolute;width: 1px;}#sk-container-id-1 div.sk-estimator {font-family: monospace;background-color: #f0f8ff;border: 1px dotted black;border-radius: 0.25em;box-sizing: border-box;margin-bottom: 0.5em;}#sk-container-id-1 div.sk-estimator:hover {background-color: #d4ebff;}#sk-container-id-1 div.sk-parallel-item::after {content: \"\";width: 100%;border-bottom: 1px solid gray;flex-grow: 1;}#sk-container-id-1 div.sk-label:hover label.sk-toggleable__label {background-color: #d4ebff;}#sk-container-id-1 div.sk-serial::before {content: \"\";position: absolute;border-left: 1px solid gray;box-sizing: border-box;top: 0;bottom: 0;left: 50%;z-index: 0;}#sk-container-id-1 div.sk-serial {display: flex;flex-direction: column;align-items: center;background-color: white;padding-right: 0.2em;padding-left: 0.2em;position: relative;}#sk-container-id-1 div.sk-item {position: relative;z-index: 1;}#sk-container-id-1 div.sk-parallel {display: flex;align-items: stretch;justify-content: center;background-color: white;position: relative;}#sk-container-id-1 div.sk-item::before, #sk-container-id-1 div.sk-parallel-item::before {content: \"\";position: absolute;border-left: 1px solid gray;box-sizing: border-box;top: 0;bottom: 0;left: 50%;z-index: -1;}#sk-container-id-1 div.sk-parallel-item {display: flex;flex-direction: column;z-index: 1;position: relative;background-color: white;}#sk-container-id-1 div.sk-parallel-item:first-child::after {align-self: flex-end;width: 50%;}#sk-container-id-1 div.sk-parallel-item:last-child::after {align-self: flex-start;width: 50%;}#sk-container-id-1 div.sk-parallel-item:only-child::after {width: 0;}#sk-container-id-1 div.sk-dashed-wrapped {border: 1px dashed gray;margin: 0 0.4em 0.5em 0.4em;box-sizing: border-box;padding-bottom: 0.4em;background-color: white;}#sk-container-id-1 div.sk-label label {font-family: monospace;font-weight: bold;display: inline-block;line-height: 1.2em;}#sk-container-id-1 div.sk-label-container {text-align: center;}#sk-container-id-1 div.sk-container {/* jupyter's `normalize.less` sets `[hidden] { display: none; }` but bootstrap.min.css set `[hidden] { display: none !important; }` so we also need the `!important` here to be able to override the default hidden behavior on the sphinx rendered scikit-learn.org. See: https://github.com/scikit-learn/scikit-learn/issues/21755 */display: inline-block !important;position: relative;}#sk-container-id-1 div.sk-text-repr-fallback {display: none;}</style><div id=\"sk-container-id-1\" class=\"sk-top-container\"><div class=\"sk-text-repr-fallback\"><pre>LogisticRegression(max_iter=1000)</pre><b>In a Jupyter environment, please rerun this cell to show the HTML representation or trust the notebook. <br />On GitHub, the HTML representation is unable to render, please try loading this page with nbviewer.org.</b></div><div class=\"sk-container\" hidden><div class=\"sk-item\"><div class=\"sk-estimator sk-toggleable\"><input class=\"sk-toggleable__control sk-hidden--visually\" id=\"sk-estimator-id-1\" type=\"checkbox\" checked><label for=\"sk-estimator-id-1\" class=\"sk-toggleable__label sk-toggleable__label-arrow\">LogisticRegression</label><div class=\"sk-toggleable__content\"><pre>LogisticRegression(max_iter=1000)</pre></div></div></div></div></div>"
      ],
      "text/plain": [
       "LogisticRegression(max_iter=1000)"
      ]
     },
     "execution_count": 32,
     "metadata": {},
     "output_type": "execute_result"
    }
   ],
   "source": [
    "logmodel = LogisticRegression(max_iter=1000)\n",
    "logmodel.fit(x_train,y_train)"
   ]
  },
  {
   "cell_type": "code",
   "execution_count": 33,
   "id": "2ca39f79",
   "metadata": {
    "execution": {
     "iopub.execute_input": "2024-03-05T13:51:08.793071Z",
     "iopub.status.busy": "2024-03-05T13:51:08.792659Z",
     "iopub.status.idle": "2024-03-05T13:51:08.799682Z",
     "shell.execute_reply": "2024-03-05T13:51:08.798457Z"
    },
    "papermill": {
     "duration": 0.03674,
     "end_time": "2024-03-05T13:51:08.802103",
     "exception": false,
     "start_time": "2024-03-05T13:51:08.765363",
     "status": "completed"
    },
    "tags": []
   },
   "outputs": [],
   "source": [
    "predictions = logmodel.predict(x_test)"
   ]
  },
  {
   "cell_type": "code",
   "execution_count": 34,
   "id": "4418de1c",
   "metadata": {
    "execution": {
     "iopub.execute_input": "2024-03-05T13:51:08.854264Z",
     "iopub.status.busy": "2024-03-05T13:51:08.853457Z",
     "iopub.status.idle": "2024-03-05T13:51:08.858412Z",
     "shell.execute_reply": "2024-03-05T13:51:08.857393Z"
    },
    "papermill": {
     "duration": 0.033598,
     "end_time": "2024-03-05T13:51:08.860683",
     "exception": false,
     "start_time": "2024-03-05T13:51:08.827085",
     "status": "completed"
    },
    "tags": []
   },
   "outputs": [],
   "source": [
    "from sklearn.metrics import confusion_matrix"
   ]
  },
  {
   "cell_type": "code",
   "execution_count": 35,
   "id": "275e53ec",
   "metadata": {
    "execution": {
     "iopub.execute_input": "2024-03-05T13:51:08.912347Z",
     "iopub.status.busy": "2024-03-05T13:51:08.911933Z",
     "iopub.status.idle": "2024-03-05T13:51:08.919771Z",
     "shell.execute_reply": "2024-03-05T13:51:08.918568Z"
    },
    "papermill": {
     "duration": 0.036538,
     "end_time": "2024-03-05T13:51:08.922079",
     "exception": false,
     "start_time": "2024-03-05T13:51:08.885541",
     "status": "completed"
    },
    "tags": []
   },
   "outputs": [],
   "source": [
    "accuracy = confusion_matrix(y_test,predictions)"
   ]
  },
  {
   "cell_type": "code",
   "execution_count": 36,
   "id": "0892b911",
   "metadata": {
    "execution": {
     "iopub.execute_input": "2024-03-05T13:51:08.974073Z",
     "iopub.status.busy": "2024-03-05T13:51:08.973649Z",
     "iopub.status.idle": "2024-03-05T13:51:08.981206Z",
     "shell.execute_reply": "2024-03-05T13:51:08.980106Z"
    },
    "papermill": {
     "duration": 0.036456,
     "end_time": "2024-03-05T13:51:08.983494",
     "exception": false,
     "start_time": "2024-03-05T13:51:08.947038",
     "status": "completed"
    },
    "tags": []
   },
   "outputs": [
    {
     "data": {
      "text/plain": [
       "array([[134,  20],\n",
       "       [ 38,  76]])"
      ]
     },
     "execution_count": 36,
     "metadata": {},
     "output_type": "execute_result"
    }
   ],
   "source": [
    "accuracy"
   ]
  },
  {
   "cell_type": "code",
   "execution_count": 37,
   "id": "31019fd9",
   "metadata": {
    "execution": {
     "iopub.execute_input": "2024-03-05T13:51:09.035730Z",
     "iopub.status.busy": "2024-03-05T13:51:09.035316Z",
     "iopub.status.idle": "2024-03-05T13:51:09.040371Z",
     "shell.execute_reply": "2024-03-05T13:51:09.039172Z"
    },
    "papermill": {
     "duration": 0.033894,
     "end_time": "2024-03-05T13:51:09.042592",
     "exception": false,
     "start_time": "2024-03-05T13:51:09.008698",
     "status": "completed"
    },
    "tags": []
   },
   "outputs": [],
   "source": [
    "from sklearn.metrics import accuracy_score"
   ]
  },
  {
   "cell_type": "code",
   "execution_count": 38,
   "id": "2b244634",
   "metadata": {
    "execution": {
     "iopub.execute_input": "2024-03-05T13:51:09.094815Z",
     "iopub.status.busy": "2024-03-05T13:51:09.094427Z",
     "iopub.status.idle": "2024-03-05T13:51:09.103264Z",
     "shell.execute_reply": "2024-03-05T13:51:09.102131Z"
    },
    "papermill": {
     "duration": 0.037763,
     "end_time": "2024-03-05T13:51:09.105570",
     "exception": false,
     "start_time": "2024-03-05T13:51:09.067807",
     "status": "completed"
    },
    "tags": []
   },
   "outputs": [
    {
     "data": {
      "text/plain": [
       "0.7835820895522388"
      ]
     },
     "execution_count": 38,
     "metadata": {},
     "output_type": "execute_result"
    }
   ],
   "source": [
    "accuracy = accuracy_score(y_test,predictions)\n",
    "accuracy"
   ]
  },
  {
   "cell_type": "code",
   "execution_count": 39,
   "id": "dedca8bb",
   "metadata": {
    "execution": {
     "iopub.execute_input": "2024-03-05T13:51:09.157894Z",
     "iopub.status.busy": "2024-03-05T13:51:09.157526Z",
     "iopub.status.idle": "2024-03-05T13:51:09.165411Z",
     "shell.execute_reply": "2024-03-05T13:51:09.164361Z"
    },
    "papermill": {
     "duration": 0.037127,
     "end_time": "2024-03-05T13:51:09.167991",
     "exception": false,
     "start_time": "2024-03-05T13:51:09.130864",
     "status": "completed"
    },
    "tags": []
   },
   "outputs": [
    {
     "data": {
      "text/plain": [
       "array([0, 1, 1, 0, 0, 0, 0, 0, 1, 1, 0, 0, 1, 0, 0, 0, 1, 0, 0, 1, 0, 0,\n",
       "       1, 1, 0, 0, 0, 0, 0, 0, 1, 1, 1, 0, 0, 1, 0, 0, 0, 0, 1, 1, 1, 0,\n",
       "       0, 0, 0, 0, 0, 0, 1, 0, 1, 1, 1, 0, 0, 0, 0, 1, 1, 0, 0, 1, 0, 0,\n",
       "       1, 1, 1, 0, 1, 0, 0, 0, 1, 1, 0, 0, 0, 0, 0, 1, 0, 0, 1, 0, 0, 1,\n",
       "       0, 1, 0, 1, 1, 1, 1, 1, 1, 0, 0, 0, 0, 1, 0, 0, 1, 1, 1, 1, 1, 0,\n",
       "       0, 0, 0, 0, 1, 0, 1, 0, 0, 1, 0, 0, 1, 0, 0, 0, 0, 0, 1, 0, 1, 1,\n",
       "       1, 0, 0, 0, 0, 0, 0, 1, 0, 1, 0, 0, 1, 0, 1, 0, 0, 0, 1, 1, 0, 0,\n",
       "       0, 0, 1, 0, 1, 1, 0, 0, 1, 0, 1, 1, 0, 1, 0, 0, 1, 0, 0, 1, 0, 0,\n",
       "       1, 0, 0, 0, 0, 0, 1, 1, 1, 0, 0, 0, 0, 0, 0, 0, 0, 1, 0, 0, 0, 1,\n",
       "       0, 0, 1, 0, 0, 1, 0, 0, 0, 0, 1, 0, 0, 0, 0, 0, 0, 0, 0, 1, 0, 1,\n",
       "       1, 0, 0, 0, 0, 0, 0, 0, 0, 0, 0, 1, 0, 1, 1, 0, 0, 1, 1, 0, 1, 1,\n",
       "       0, 0, 1, 1, 0, 0, 1, 1, 0, 1, 0, 0, 0, 0, 0, 0, 1, 0, 0, 1, 0, 0,\n",
       "       1, 0, 0, 1])"
      ]
     },
     "execution_count": 39,
     "metadata": {},
     "output_type": "execute_result"
    }
   ],
   "source": [
    "predictions"
   ]
  },
  {
   "cell_type": "markdown",
   "id": "87801f01",
   "metadata": {
    "papermill": {
     "duration": 0.02558,
     "end_time": "2024-03-05T13:51:09.219120",
     "exception": false,
     "start_time": "2024-03-05T13:51:09.193540",
     "status": "completed"
    },
    "tags": []
   },
   "source": [
    "# Evaluation\n",
    "We can check precision,recall,f1-score using classification report!"
   ]
  },
  {
   "cell_type": "code",
   "execution_count": 40,
   "id": "65fa4035",
   "metadata": {
    "execution": {
     "iopub.execute_input": "2024-03-05T13:51:09.273346Z",
     "iopub.status.busy": "2024-03-05T13:51:09.272723Z",
     "iopub.status.idle": "2024-03-05T13:51:09.276705Z",
     "shell.execute_reply": "2024-03-05T13:51:09.275966Z"
    },
    "papermill": {
     "duration": 0.033104,
     "end_time": "2024-03-05T13:51:09.278769",
     "exception": false,
     "start_time": "2024-03-05T13:51:09.245665",
     "status": "completed"
    },
    "tags": []
   },
   "outputs": [],
   "source": [
    "from sklearn.metrics import classification_report"
   ]
  },
  {
   "cell_type": "code",
   "execution_count": 41,
   "id": "bfa8e405",
   "metadata": {
    "execution": {
     "iopub.execute_input": "2024-03-05T13:51:09.332601Z",
     "iopub.status.busy": "2024-03-05T13:51:09.331785Z",
     "iopub.status.idle": "2024-03-05T13:51:09.344796Z",
     "shell.execute_reply": "2024-03-05T13:51:09.343936Z"
    },
    "papermill": {
     "duration": 0.042313,
     "end_time": "2024-03-05T13:51:09.347068",
     "exception": false,
     "start_time": "2024-03-05T13:51:09.304755",
     "status": "completed"
    },
    "tags": []
   },
   "outputs": [
    {
     "name": "stdout",
     "output_type": "stream",
     "text": [
      "              precision    recall  f1-score   support\n",
      "\n",
      "           0       0.78      0.87      0.82       154\n",
      "           1       0.79      0.67      0.72       114\n",
      "\n",
      "    accuracy                           0.78       268\n",
      "   macro avg       0.79      0.77      0.77       268\n",
      "weighted avg       0.78      0.78      0.78       268\n",
      "\n"
     ]
    }
   ],
   "source": [
    "print(classification_report(y_test,predictions))"
   ]
  }
 ],
 "metadata": {
  "kaggle": {
   "accelerator": "none",
   "dataSources": [
    {
     "datasetId": 13327,
     "sourceId": 18366,
     "sourceType": "datasetVersion"
    },
    {
     "datasetId": 4450821,
     "sourceId": 7637399,
     "sourceType": "datasetVersion"
    }
   ],
   "dockerImageVersionId": 30664,
   "isGpuEnabled": false,
   "isInternetEnabled": true,
   "language": "python",
   "sourceType": "notebook"
  },
  "kernelspec": {
   "display_name": "Python 3",
   "language": "python",
   "name": "python3"
  },
  "language_info": {
   "codemirror_mode": {
    "name": "ipython",
    "version": 3
   },
   "file_extension": ".py",
   "mimetype": "text/x-python",
   "name": "python",
   "nbconvert_exporter": "python",
   "pygments_lexer": "ipython3",
   "version": "3.10.13"
  },
  "papermill": {
   "default_parameters": {},
   "duration": 14.546328,
   "end_time": "2024-03-05T13:51:09.994435",
   "environment_variables": {},
   "exception": null,
   "input_path": "__notebook__.ipynb",
   "output_path": "__notebook__.ipynb",
   "parameters": {},
   "start_time": "2024-03-05T13:50:55.448107",
   "version": "2.5.0"
  }
 },
 "nbformat": 4,
 "nbformat_minor": 5
}
